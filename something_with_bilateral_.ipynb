{
  "nbformat": 4,
  "nbformat_minor": 0,
  "metadata": {
    "colab": {
      "provenance": []
    },
    "kernelspec": {
      "name": "python3",
      "display_name": "Python 3"
    },
    "language_info": {
      "name": "python"
    }
  },
  "cells": [
    {
      "cell_type": "code",
      "source": [
        "import numpy as np\n",
        "import cv2 as cv\n",
        "import pandas as pd\n",
        "from google.colab.patches import cv2_imshow #especially for google colab\n",
        "import matplotlib.pyplot as plt\n",
        "from PIL import Image"
      ],
      "metadata": {
        "id": "Sd-gIggzosx9"
      },
      "execution_count": 2,
      "outputs": []
    },
    {
      "cell_type": "code",
      "source": [],
      "metadata": {
        "id": "Cc4yFogupr7F"
      },
      "execution_count": 2,
      "outputs": []
    },
    {
      "cell_type": "markdown",
      "source": [
        "\n",
        "\n",
        "```\n",
        "bilateral Filter\n",
        "```\n",
        "\n"
      ],
      "metadata": {
        "id": "szRprhEbFnG3"
      }
    },
    {
      "cell_type": "code",
      "source": [
        "# exp^(-x^2/2*sigma^2)\n",
        "#bilateral filter part 1\n",
        "def bilateral_filter(flash,Ambient):\n",
        "  \"\"\"\n",
        "  Both inputs need to be same input\n",
        "  \"\"\"\n",
        "  interpolation_array=[]\n",
        "  lamb=0.01\n",
        "  sigma_radial=100\n",
        "  min_I=np.min(flash)-lamb\n",
        "  max_I=np.max(flash)+lamb\n",
        "  segments=int(np.ceil((max_I-min_I)/sigma_radial))\n",
        "  interpolation_array=[0 for i in range(segments)]\n",
        "  for j in range(segments):\n",
        "    Ij=min_I+j*((max_I-min_I)/segments)\n",
        "    #print(Ij)\n",
        "    intensity_applied=np.exp(-((flash-Ij)*(flash-Ij)/(sigma_radial**2)))\n",
        "    #normalization=cv.GaussianBlur(intensity_applied,(3,3),0)\n",
        "    normalize=cv.GaussianBlur(intensity_applied,(5,5),0)+lamb\n",
        "    Hj=intensity_applied*Ambient\n",
        "    final=cv.GaussianBlur(Hj,(5,5),0)\n",
        "    then=final/normalize\n",
        "    interpolation_array[j]=then\n",
        "\n",
        "  return np.array(interpolation_array),np.array([min_I+i*((max_I-min_I)/segments) for i in range(segments)])\n",
        ""
      ],
      "metadata": {
        "id": "Gjf_Ddg23jAe"
      },
      "execution_count": 4,
      "outputs": []
    },
    {
      "cell_type": "code",
      "source": [
        "#bilateral filter part 2\n",
        "def interpolation(filtered,X,Ambient):\n",
        "  length=Ambient.shape[0]\n",
        "  width=Ambient.shape[1]\n",
        "  ret=np.zeros((length,width))\n",
        "  for i in range(length):\n",
        "    for j in range(width):\n",
        "      ret[i][j]=np.interp(Ambient[i,j],X,filtered[:,i,j])\n",
        "\n",
        "  return ret"
      ],
      "metadata": {
        "id": "2rOwJvlY5gja"
      },
      "execution_count": 3,
      "outputs": []
    },
    {
      "cell_type": "code",
      "source": [
        "#t=bilateral_filter(img2[:,:,0],img2[:,:,0])\n",
        "#goutput=interpolation(t[0],t[1],img2[:,:,0])"
      ],
      "metadata": {
        "id": "Gkkl6Cza0dzT"
      },
      "execution_count": 4,
      "outputs": []
    },
    {
      "cell_type": "markdown",
      "source": [
        "\n",
        "\n",
        "```\n",
        "X-Y Separable bilateral filter\n",
        "```\n",
        "\n"
      ],
      "metadata": {
        "id": "UF-hR_y9F8m5"
      }
    },
    {
      "cell_type": "code",
      "source": [
        "\n",
        "# helper for \"X-Y_bilateral\" function .\n",
        "def apply_bilateral(data,sigmar,sigmad):\n",
        "  # we can specify sigmar for spatial gaussian standard deviation,\n",
        "  # for now we are not using sigmar(spatial standard deviation) ,\n",
        "  #just with setting value 0 in cv.getGaussiankernel , we are good with it\n",
        "  center=data[len(data)//2]\n",
        "  k=1/(np.sqrt(2*3.14)*sigmad)\n",
        "\n",
        "  bilat_arr=np.zeros(len(data))\n",
        "  # np.exp(-2t*t/r*r)\n",
        "  gauss_arr=cv.getGaussianKernel(len(data),0).T\n",
        "  #print(gauss_arr)\n",
        "  for i in range(len(data)):\n",
        "\n",
        "    bilat_arr[i]=np.exp(-1*(2*((data[i]-center)**2))/(2*sigmad*sigmad))\n",
        "\n",
        "  #print(bilat_arr)\n",
        "  bilat_arr*=k\n",
        "\n",
        "  sum=np.sum(bilat_arr*gauss_arr)\n",
        "  op_data=data*bilat_arr\n",
        "  op_data=op_data*gauss_arr\n",
        "\n",
        "\n",
        "  return np.sum(op_data)/sum\n",
        "\n"
      ],
      "metadata": {
        "id": "SstMQalG-Cui"
      },
      "execution_count": 5,
      "outputs": []
    },
    {
      "cell_type": "code",
      "source": [],
      "metadata": {
        "id": "p8XuXu9lJ2s_"
      },
      "execution_count": 6,
      "outputs": []
    },
    {
      "cell_type": "code",
      "source": [
        "\"\"\"def bilateral1d(data,gaussize,sigmad):\n",
        "  filt=np.zeros(data.shape)\n",
        "  padd_length=gaussize//2\n",
        "  paddata=np.pad(data,(padd_length,padd_length),constant_values=0)*1.0\n",
        "  k=1/(np.sqrt(2*3.14)*sigmad)\n",
        "  gauss=cv.getGaussianKernel(gaussize,0).T\n",
        "  #gauss size in odd size.\n",
        "  for i in range(padd_length,len(data)+padd_length):\n",
        "    crop=paddata[i-padd_length:i+padd_length+1]\n",
        "    center=crop[padd_length]\n",
        "    bilat_arr=np.zeros(len(crop))\n",
        "    for j in range(len(crop)):\n",
        "      bilat_arr[j]=np.exp(-1*(2*((crop[j]-center)**2))/(2*sigmad*sigmad))\n",
        "    bilat_arr*=k\n",
        "    #print(bilat_arr,gauss)\n",
        "    sum=np.sum(bilat_arr*gauss)\n",
        "    op_data=crop*bilat_arr\n",
        "    op_data=op_data*gauss\n",
        "    op_data=np.sum(op_data)/sum\n",
        "    filt[i-padd_length]=op_data\n",
        "\n",
        "  return filt\"\"\"\n",
        "\n",
        "# we can use apply bilateral function to calculate bilateral operation .\n",
        "# for any kind of input data structure , we can scrap out data , and apply above function."
      ],
      "metadata": {
        "id": "Bu4E_EOOJ2vA"
      },
      "execution_count": null,
      "outputs": []
    },
    {
      "cell_type": "code",
      "source": [],
      "metadata": {
        "id": "J0jDpH9-tQmE"
      },
      "execution_count": null,
      "outputs": []
    },
    {
      "cell_type": "code",
      "source": [
        "def X_Y_bilateral(image,sigmar,sigmad,filtersize):\n",
        "  \"\"\"\n",
        "  @params image :2D np array with float datatype\n",
        "  @params sigmar: std dev for pixel location difference\n",
        "  @params sigmad: std dev for pixel magnitude closeness\n",
        "  @params filtersize: size of the filter (1D) 'should be an odd number'\n",
        "  \"\"\"\n",
        "\n",
        "  x_filter=np.zeros(image.shape)\n",
        "  bi_img=np.zeros(image.shape)\n",
        "  padd_length=(filtersize)//2 # integer value\n",
        "  padded_img=np.pad(image,((padd_length,padd_length),(padd_length,padd_length)),constant_values=0)*1.0 # to convert image into floating datatype\n",
        "  length,width=padded_img.shape\n",
        "  #print(padd_length,length)\n",
        "\n",
        "\n",
        "  #go in x direction  on raw image .\n",
        "  for i in range(padd_length,length-padd_length):\n",
        "    for j in range(padd_length,length-padd_length):\n",
        "        # apply filter\n",
        "        #print(i,j)\n",
        "\n",
        "        data=padded_img[i][j-padd_length:j+padd_length+1]\n",
        "        value=apply_bilateral(data,sigmar,sigmad)\n",
        "        x_filter[i-2][j-2]=value\n",
        "\n",
        "  transpose=x_filter.T\n",
        "  # go in y direction  on the x_filterd image\n",
        "  padded_img=np.pad(transpose,((2,2),(2,2)),constant_values=0)*1.0\n",
        "  #print(padded_img.shape)\n",
        "  for i in range(padd_length,length-padd_length):\n",
        "    for j in range(padd_length,length-padd_length):\n",
        "        # apply filter\n",
        "        #print(i,j)\n",
        "        data=padded_img[i][j-padd_length:j+padd_length+1]\n",
        "        value=apply_bilateral(data,sigmar,sigmad)\n",
        "        bi_img[i-2][j-2]=value\n",
        "\n",
        "\n",
        "  return bi_img.T"
      ],
      "metadata": {
        "id": "4CaMedHJD2v_"
      },
      "execution_count": 8,
      "outputs": []
    },
    {
      "cell_type": "code",
      "source": [
        "#img=cv.imread('/content/pic14.jpg')\n",
        "#img=cv.resize(cv.cvtColor(img, cv.COLOR_BGR2GRAY),(300,300))"
      ],
      "metadata": {
        "id": "wNycgAbQJWdV"
      },
      "execution_count": 1,
      "outputs": []
    },
    {
      "cell_type": "code",
      "source": [],
      "metadata": {
        "id": "Le7KrS7ZzhGd"
      },
      "execution_count": 249,
      "outputs": []
    },
    {
      "cell_type": "code",
      "source": [
        "#used for creating stacks of processed outputs\n",
        "\"\"\"stack=[]\n",
        "ref=img\n",
        "stack.append(img)\n",
        "for i in range(4):\n",
        "  get=X_Y_bilateral(ref,7,10,7)\n",
        "  #name=\"girlface\"+str(i)+\".jpg\"\n",
        "  stack.append(get)\n",
        "  #cv.imwrite(name,get)\n",
        "  #print(name)\n",
        "  print(\"iteration\",i+1)\n",
        "  cv2_imshow(get)\n",
        "  ref=get\n",
        "\"\"\"\n",
        "\n",
        "\"\"\"\n",
        "stacked=np.zeros((300,900))\n",
        "for i in range(3):\n",
        "  j=i*2+1\n",
        "  print(j)\n",
        "  stacked[:,300*i:300*(i+1)]=stack[j-1]\n",
        "  #img-2nd iter - 4th iter\"\"\""
      ],
      "metadata": {
        "id": "X5T4Jqcq05En"
      },
      "execution_count": null,
      "outputs": []
    },
    {
      "cell_type": "code",
      "source": [],
      "metadata": {
        "id": "kIF4vff5VSsi"
      },
      "execution_count": null,
      "outputs": []
    },
    {
      "cell_type": "markdown",
      "source": [
        "\n",
        "\n",
        "```\n",
        "Quantization for Grayscale image or 2D images.\n",
        "```\n",
        "\n"
      ],
      "metadata": {
        "id": "PxkgBmg0HZTl"
      }
    },
    {
      "cell_type": "code",
      "source": [
        "def Quantize(image,levels):\n",
        "  \"\"\"\n",
        "  @params image : 2D numpy array.\n",
        "  @params levels: no. of Quantization levels.\n",
        "  \"\"\"\n",
        "  band=256//levels\n",
        "  print(band)\n",
        "  float_image=image*1.0\n",
        "  image_level=float_image//band\n",
        "  quant_img=image_level*band\n",
        "\n",
        "  #what if\n",
        "  #rather than simply forcing them to one of extrema of the interval, we can average the ones in a interval.\\\n",
        "  # lets see.\n",
        "  \"\"\"distribution=[[] for i in range(levels)]\n",
        "  average=[[] for i in range(levels) ]\n",
        "  length,width=image.shape\n",
        "  for i in range(length):\n",
        "    for j in range(width):\n",
        "      distribution[int(image_level[i][j])].append(image[i][j])\n",
        "\n",
        "  # we got the image values as per the bucket.\n",
        "  for i in range(levels):\n",
        "    average[i]=np.average(np.array(distribution[i]))\n",
        "\n",
        "  avgquant_img=np.zeros(image.shape)\n",
        "\n",
        "  for i  in range(length):\n",
        "    for j in range(width):\n",
        "      avgquant_img[i][j]=average[int(image_level[i][j])]\"\"\"\n",
        "\n",
        "\n",
        "\n",
        "  return quant_img #,image_level"
      ],
      "metadata": {
        "id": "ZVS6YI0Lbg1Q"
      },
      "execution_count": 6,
      "outputs": []
    },
    {
      "cell_type": "code",
      "source": [],
      "metadata": {
        "id": "_1sImklA7cyX"
      },
      "execution_count": 180,
      "outputs": []
    },
    {
      "cell_type": "code",
      "source": [
        "\"\"\"\n",
        "quant_stacked=np.zeros((300,900))\n",
        "for i in range(3):\n",
        "  get=stacked[:,300*i:300*(i+1)]\n",
        "  get=Quantize(get,8)\n",
        "  quant_stacked[:,300 *i:300*(i+1)]=get\n",
        "  cv2_imshow(get)\n",
        "\"\"\"\n"
      ],
      "metadata": {
        "id": "zlDXbF-LAELD"
      },
      "execution_count": 203,
      "outputs": []
    },
    {
      "cell_type": "markdown",
      "source": [
        "\n",
        "\n",
        "```\n",
        "Quantization for colored images, since each pixel is having multidimensional information.\n",
        "```\n",
        "\n"
      ],
      "metadata": {
        "id": "Xa7pQiYzIGPn"
      }
    },
    {
      "cell_type": "code",
      "source": [
        "#some changes need in calculation of new_centers after first iteration (note)\n",
        "def kmeansQuantize(Image,levels=8,iteration=100,criteria=1e-4): #for colored images\n",
        "  pixels=Image.reshape(-1,3) # np array of (pixels,3) shape\n",
        "  init_centers=pixels[np.random.choice(len(pixels),levels)] # initialize clusters sample\n",
        "  start=init_centers\n",
        "  for i in range(iteration):\n",
        "    euclid_dis=np.linalg.norm(pixels[:,np.newaxis,:]-start,axis=2)  # find distance 1\n",
        "    clusters_ind=np.argmin(euclid_dis,axis=1)  # allocate to minimum 2\n",
        "    new_centers=np.array([ pixels[clusters_ind==i].mean(axis=0) for i in range(levels)]) # find new centers  3\n",
        "    Quantized_pix=new_centers[clusters_ind]\n",
        "    if np.linalg.norm(new_centers-start)<=criteria:\n",
        "      break\n",
        "\n",
        "    start=new_centers\n",
        "    Quant_img=Quantized_pix.reshape(300, 300, -1).astype(np.uint8)\n",
        "\n",
        "  return  Quant_img\n"
      ],
      "metadata": {
        "id": "ULrCA-gDl17M"
      },
      "execution_count": 10,
      "outputs": []
    },
    {
      "cell_type": "code",
      "source": [
        "#img2= cv.imread('/content/pic7.jpg')\n",
        "#img2=cv.resize(img2,(300,300))"
      ],
      "metadata": {
        "id": "XZTYTVzsFXe4"
      },
      "execution_count": 70,
      "outputs": []
    },
    {
      "cell_type": "code",
      "source": [
        "\"\"\"stacked=np.zeros((300,900,3))\n",
        "#lets try  with colorful images\n",
        "refb=img2[:,:,0]\n",
        "refg=img2[:,:,1]\n",
        "refr=img2[:,:,2]\n",
        "stacked[:,:300,:]=img2\n",
        "for i in range(4):\n",
        "  getb=X_Y_bilateral(refb,7,10,7)\n",
        "  getg=X_Y_bilateral(refg,7,10,7)\n",
        "  getr=X_Y_bilateral(refr,7,10,7)\n",
        "  print(\"iteration\",i+1)\n",
        "  final=np.zeros((300,300,3))\n",
        "  final[:,:,0],refb=getb,getb\n",
        "  final[:,:,1],refg=getg,getg\n",
        "  final[:,:,2],refr=getr,getr\n",
        "  if i==1:\n",
        "    stacked[:,300:600,:]=final\n",
        "  if i==3:\n",
        "    stacked[:,600:900,:]=final\n",
        "  cv2_imshow(final) \"\"\"\n",
        "\n",
        "\"\"\"\n",
        "quant_stacked=np.zeros((300,900,3))\n",
        "for i in range(3):\n",
        "  get=stacked[:,300*i:300*(i+1),:]\n",
        "  get=kmeansQuantize(get,8)\n",
        "  quant_stacked[:,300*i:300*(i+1),:]=get\n",
        "  cv2_imshow(get)\n",
        "\"\"\"\n"
      ],
      "metadata": {
        "id": "fuc2bvqo_IA_"
      },
      "execution_count": null,
      "outputs": []
    },
    {
      "cell_type": "code",
      "source": [],
      "metadata": {
        "id": "9YBat-1OHb_W"
      },
      "execution_count": null,
      "outputs": []
    },
    {
      "cell_type": "code",
      "source": [],
      "metadata": {
        "id": "5Xrf6AVv54xY"
      },
      "execution_count": null,
      "outputs": []
    }
  ]
}