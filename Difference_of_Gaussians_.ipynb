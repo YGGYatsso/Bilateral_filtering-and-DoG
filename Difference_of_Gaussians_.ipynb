{
  "nbformat": 4,
  "nbformat_minor": 0,
  "metadata": {
    "colab": {
      "provenance": []
    },
    "kernelspec": {
      "name": "python3",
      "display_name": "Python 3"
    },
    "language_info": {
      "name": "python"
    }
  },
  "cells": [
    {
      "cell_type": "code",
      "execution_count": 1,
      "metadata": {
        "id": "oW6BuEYpa3T0"
      },
      "outputs": [],
      "source": [
        "import numpy as np\n",
        "import cv2 as cv\n",
        "import pandas as pd\n",
        "from google.colab.patches import cv2_imshow #especially for google colab\n",
        "import matplotlib.pyplot as plt\n",
        "from PIL import Image"
      ]
    },
    {
      "cell_type": "code",
      "source": [
        "def dog(img,size=(0,0),k=1.6,sigma=0.5,gamma=0.98):\n",
        "    img1 = cv.GaussianBlur(img,size,sigma)\n",
        "    #print(img1)\n",
        "    img2 = cv.GaussianBlur(img,size,sigma*k)\n",
        "    #print(img2)\n",
        "    return (img1*(1.0)-gamma*img2) # datatype =float"
      ],
      "metadata": {
        "id": "Tk2BLTIibFj-"
      },
      "execution_count": 3,
      "outputs": []
    },
    {
      "cell_type": "code",
      "source": [
        "def improdog(img,size=(0,0),k=1.6,sigma=0.5,gamma=1.5):\n",
        "    img1 = cv.GaussianBlur(img,size,sigma)\n",
        "\n",
        "    img2 = cv.GaussianBlur(img,size,sigma*k)\n",
        "\n",
        "    return (img1*(1.0+gamma)-gamma*img2) # datatype=float , output is a overlap(details), over a blurred image"
      ],
      "metadata": {
        "id": "FYRfU7WSbHpC"
      },
      "execution_count": 4,
      "outputs": []
    },
    {
      "cell_type": "code",
      "source": [
        "def threshold(image, thresh,tone=\"dual\",scale=1.0):\n",
        "\n",
        "  #diff=image-np.min(image) # to make positive diff\n",
        "  #cv2_imshow(diff)\n",
        "  diff=image\n",
        "  diff/=np.max(diff) # bringing the values in [0,1] range.\n",
        "  #cv2_imshow(diff)\n",
        "  if tone=='dual':\n",
        "    tone_img=(diff>=thresh)*255.0\n",
        "  elif tone=='soft':\n",
        "    one=(diff>=thresh)*1.0\n",
        "    #print(one)\n",
        "    two=((diff-0.00)<(thresh))*(1.0+np.tanh(scale*(diff-thresh)))\n",
        "    #print(two)\n",
        "    tone_img=(one+two)*255.0\n",
        "  else:\n",
        "    raise Exception(\"tone can take values either : dual or soft\")\n",
        "\n",
        "  return tone_img\n"
      ],
      "metadata": {
        "id": "HOpFcBI-bJT5"
      },
      "execution_count": 5,
      "outputs": []
    },
    {
      "cell_type": "code",
      "source": [
        "img=cv.imread('/content/pic14.jpg')\n",
        "img=cv.resize(cv.cvtColor(img, cv.COLOR_BGR2GRAY),(300,300)) # color images to grayscale"
      ],
      "metadata": {
        "id": "OYwL2TWl8E3v"
      },
      "execution_count": 151,
      "outputs": []
    },
    {
      "cell_type": "code",
      "source": [
        "dif=dog(img,sigma=0.5,gamma=0.98)\n",
        "thresh_img=threshold(dif,thresh=0.2046,tone='dual')\n",
        "cv2_imshow(thresh_img)"
      ],
      "metadata": {
        "id": "yD-1CVlDmnyK"
      },
      "execution_count": null,
      "outputs": []
    },
    {
      "cell_type": "code",
      "source": [
        "dif=dog(img,sigma=1.0,gamma=0.98)\n",
        "thresh_img=threshold(dif,thresh=0.3046,tone='soft',scale=9.0)\n",
        "cv2_imshow(thresh_img)"
      ],
      "metadata": {
        "id": "a8BFNyHZmsHz"
      },
      "execution_count": null,
      "outputs": []
    },
    {
      "cell_type": "code",
      "source": [
        "dif=improdog(img,sigma=0.5,gamma=1.5)  # here gamma is different from primitive DOG .\n",
        "thresh_img=threshold(dif,thresh=0.5046,tone='soft',scale=9.0)\n",
        "cv2_imshow(thresh_img)\n",
        "#sigma =0.5 , gamma =1.5 thresh=0.5046 , scale=9.0 (1scenario)\n",
        "#sigma =0.5 , gamma =1.5  thresh=0.7046 ,tone='soft' ,scale=10.0"
      ],
      "metadata": {
        "id": "3z8eFhssmsLQ"
      },
      "execution_count": null,
      "outputs": []
    },
    {
      "cell_type": "code",
      "source": [],
      "metadata": {
        "id": "n0dW9ju4p4ct"
      },
      "execution_count": null,
      "outputs": []
    },
    {
      "cell_type": "code",
      "source": [],
      "metadata": {
        "id": "k128uOjrnIYm"
      },
      "execution_count": null,
      "outputs": []
    }
  ]
}